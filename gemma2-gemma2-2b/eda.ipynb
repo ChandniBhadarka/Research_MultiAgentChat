{
 "cells": [
  {
   "cell_type": "code",
   "execution_count": 1,
   "id": "d2808231",
   "metadata": {},
   "outputs": [],
   "source": [
    "import pandas as pd\n",
    "import numpy as np"
   ]
  },
  {
   "cell_type": "code",
   "execution_count": 8,
   "id": "0ced7fd6",
   "metadata": {},
   "outputs": [
    {
     "name": "stdout",
     "output_type": "stream",
     "text": [
      "Index(['turn_index', 'speaker', 'message', 'polarity', 'subjectivity',\n",
      "       'sentiment_shift', 'text_length', 'word_count', 'flesch_reading_ease',\n",
      "       'text_standard', 'Happy_Emotion', 'Angry_Emotion', 'Surprise_Emotion',\n",
      "       'Sad_Emotion', 'Fear_Emotion'],\n",
      "      dtype='object')\n"
     ]
    }
   ],
   "source": [
    "df = pd.read_csv(\"conversation_analysis.csv\")\n",
    "print(df.columns)"
   ]
  },
  {
   "cell_type": "code",
   "execution_count": 12,
   "id": "ae136c26",
   "metadata": {},
   "outputs": [
    {
     "data": {
      "text/plain": [
       "turn_index             0\n",
       "speaker                0\n",
       "message                0\n",
       "polarity               0\n",
       "subjectivity           0\n",
       "sentiment_shift        0\n",
       "text_length            0\n",
       "word_count             0\n",
       "flesch_reading_ease    0\n",
       "text_standard          0\n",
       "Happy_Emotion          0\n",
       "Angry_Emotion          0\n",
       "Surprise_Emotion       0\n",
       "Sad_Emotion            0\n",
       "Fear_Emotion           0\n",
       "dtype: int64"
      ]
     },
     "execution_count": 12,
     "metadata": {},
     "output_type": "execute_result"
    }
   ],
   "source": [
    "df.dropna(inplace=True)\n",
    "df.isnull().sum()"
   ]
  },
  {
   "cell_type": "code",
   "execution_count": 15,
   "id": "d60a18ed",
   "metadata": {},
   "outputs": [],
   "source": [
    "stats_df = df.describe()"
   ]
  },
  {
   "cell_type": "code",
   "execution_count": 16,
   "id": "1f1bc466",
   "metadata": {},
   "outputs": [
    {
     "data": {
      "text/html": [
       "<div>\n",
       "<style scoped>\n",
       "    .dataframe tbody tr th:only-of-type {\n",
       "        vertical-align: middle;\n",
       "    }\n",
       "\n",
       "    .dataframe tbody tr th {\n",
       "        vertical-align: top;\n",
       "    }\n",
       "\n",
       "    .dataframe thead th {\n",
       "        text-align: right;\n",
       "    }\n",
       "</style>\n",
       "<table border=\"1\" class=\"dataframe\">\n",
       "  <thead>\n",
       "    <tr style=\"text-align: right;\">\n",
       "      <th></th>\n",
       "      <th>turn_index</th>\n",
       "      <th>polarity</th>\n",
       "      <th>subjectivity</th>\n",
       "      <th>sentiment_shift</th>\n",
       "      <th>text_length</th>\n",
       "      <th>word_count</th>\n",
       "      <th>flesch_reading_ease</th>\n",
       "      <th>Happy_Emotion</th>\n",
       "      <th>Angry_Emotion</th>\n",
       "      <th>Surprise_Emotion</th>\n",
       "      <th>Sad_Emotion</th>\n",
       "      <th>Fear_Emotion</th>\n",
       "    </tr>\n",
       "  </thead>\n",
       "  <tbody>\n",
       "    <tr>\n",
       "      <th>count</th>\n",
       "      <td>36.000000</td>\n",
       "      <td>36.000000</td>\n",
       "      <td>36.000000</td>\n",
       "      <td>36.000000</td>\n",
       "      <td>36.000000</td>\n",
       "      <td>36.000000</td>\n",
       "      <td>36.000000</td>\n",
       "      <td>36.000000</td>\n",
       "      <td>36.000000</td>\n",
       "      <td>36.000000</td>\n",
       "      <td>36.000000</td>\n",
       "      <td>36.000000</td>\n",
       "    </tr>\n",
       "    <tr>\n",
       "      <th>mean</th>\n",
       "      <td>18.500000</td>\n",
       "      <td>0.021111</td>\n",
       "      <td>0.440026</td>\n",
       "      <td>0.005324</td>\n",
       "      <td>406.333333</td>\n",
       "      <td>60.333333</td>\n",
       "      <td>28.884680</td>\n",
       "      <td>0.039722</td>\n",
       "      <td>0.081389</td>\n",
       "      <td>0.061944</td>\n",
       "      <td>0.173056</td>\n",
       "      <td>0.641389</td>\n",
       "    </tr>\n",
       "    <tr>\n",
       "      <th>std</th>\n",
       "      <td>10.535654</td>\n",
       "      <td>0.128949</td>\n",
       "      <td>0.113137</td>\n",
       "      <td>0.154912</td>\n",
       "      <td>108.256837</td>\n",
       "      <td>12.425780</td>\n",
       "      <td>27.628109</td>\n",
       "      <td>0.060921</td>\n",
       "      <td>0.129640</td>\n",
       "      <td>0.090137</td>\n",
       "      <td>0.148417</td>\n",
       "      <td>0.176783</td>\n",
       "    </tr>\n",
       "    <tr>\n",
       "      <th>min</th>\n",
       "      <td>1.000000</td>\n",
       "      <td>-0.216667</td>\n",
       "      <td>0.200000</td>\n",
       "      <td>-0.267706</td>\n",
       "      <td>238.000000</td>\n",
       "      <td>38.000000</td>\n",
       "      <td>-14.565714</td>\n",
       "      <td>0.000000</td>\n",
       "      <td>0.000000</td>\n",
       "      <td>0.000000</td>\n",
       "      <td>0.000000</td>\n",
       "      <td>0.250000</td>\n",
       "    </tr>\n",
       "    <tr>\n",
       "      <th>25%</th>\n",
       "      <td>9.750000</td>\n",
       "      <td>-0.077500</td>\n",
       "      <td>0.381239</td>\n",
       "      <td>-0.094958</td>\n",
       "      <td>318.750000</td>\n",
       "      <td>50.000000</td>\n",
       "      <td>7.486707</td>\n",
       "      <td>0.000000</td>\n",
       "      <td>0.000000</td>\n",
       "      <td>0.000000</td>\n",
       "      <td>0.095000</td>\n",
       "      <td>0.500000</td>\n",
       "    </tr>\n",
       "  </tbody>\n",
       "</table>\n",
       "</div>"
      ],
      "text/plain": [
       "       turn_index   polarity  subjectivity  sentiment_shift  text_length  \\\n",
       "count   36.000000  36.000000     36.000000        36.000000    36.000000   \n",
       "mean    18.500000   0.021111      0.440026         0.005324   406.333333   \n",
       "std     10.535654   0.128949      0.113137         0.154912   108.256837   \n",
       "min      1.000000  -0.216667      0.200000        -0.267706   238.000000   \n",
       "25%      9.750000  -0.077500      0.381239        -0.094958   318.750000   \n",
       "\n",
       "       word_count  flesch_reading_ease  Happy_Emotion  Angry_Emotion  \\\n",
       "count   36.000000            36.000000      36.000000      36.000000   \n",
       "mean    60.333333            28.884680       0.039722       0.081389   \n",
       "std     12.425780            27.628109       0.060921       0.129640   \n",
       "min     38.000000           -14.565714       0.000000       0.000000   \n",
       "25%     50.000000             7.486707       0.000000       0.000000   \n",
       "\n",
       "       Surprise_Emotion  Sad_Emotion  Fear_Emotion  \n",
       "count         36.000000    36.000000     36.000000  \n",
       "mean           0.061944     0.173056      0.641389  \n",
       "std            0.090137     0.148417      0.176783  \n",
       "min            0.000000     0.000000      0.250000  \n",
       "25%            0.000000     0.095000      0.500000  "
      ]
     },
     "execution_count": 16,
     "metadata": {},
     "output_type": "execute_result"
    }
   ],
   "source": [
    "stats_df.head()"
   ]
  },
  {
   "cell_type": "code",
   "execution_count": 17,
   "id": "cdc0c1fa",
   "metadata": {},
   "outputs": [],
   "source": [
    "df.to_csv(r'data\\refined_gemma_gemma.csv', index=False)\n",
    "stats_df.to_csv(r'data\\stats_gemma_gemma.csv', index=False)"
   ]
  },
  {
   "cell_type": "code",
   "execution_count": null,
   "id": "ee03e062",
   "metadata": {},
   "outputs": [],
   "source": []
  },
  {
   "cell_type": "code",
   "execution_count": null,
   "id": "0e87a321",
   "metadata": {},
   "outputs": [],
   "source": []
  },
  {
   "cell_type": "code",
   "execution_count": null,
   "id": "8263ea4a",
   "metadata": {},
   "outputs": [],
   "source": []
  },
  {
   "cell_type": "code",
   "execution_count": null,
   "id": "8ea2d0dc",
   "metadata": {},
   "outputs": [],
   "source": []
  },
  {
   "cell_type": "code",
   "execution_count": null,
   "id": "d1bcdf64",
   "metadata": {},
   "outputs": [],
   "source": []
  },
  {
   "cell_type": "code",
   "execution_count": null,
   "id": "acd31d3c",
   "metadata": {},
   "outputs": [],
   "source": []
  }
 ],
 "metadata": {
  "kernelspec": {
   "display_name": "base",
   "language": "python",
   "name": "python3"
  },
  "language_info": {
   "codemirror_mode": {
    "name": "ipython",
    "version": 3
   },
   "file_extension": ".py",
   "mimetype": "text/x-python",
   "name": "python",
   "nbconvert_exporter": "python",
   "pygments_lexer": "ipython3",
   "version": "3.10.9"
  }
 },
 "nbformat": 4,
 "nbformat_minor": 5
}
